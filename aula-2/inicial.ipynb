{
 "cells": [
  {
   "cell_type": "markdown",
   "metadata": {},
   "source": [
    "# Python Insights - Analisando Dados com Python\n",
    "\n",
    "### Case - Cancelamento de Clientes\n",
    "\n",
    "Você foi contratado por uma empresa com mais de 800 mil clientes para um projeto de Dados. Recentemente a empresa percebeu que da sua base total de clientes, a maioria são clientes inativos, ou seja, que já cancelaram o serviço.\n",
    "\n",
    "Precisando melhorar seus resultados ela quer conseguir entender os principais motivos desses cancelamentos e quais as ações mais eficientes para reduzir esse número.\n",
    "\n",
    "Base de dados e arquivos: https://drive.google.com/drive/folders/1uDesZePdkhiraJmiyeZ-w5tfc8XsNYFZ?usp=drive_link"
   ]
  },
  {
   "cell_type": "code",
   "execution_count": 2,
   "metadata": {},
   "outputs": [],
   "source": [
    "# Passo a passo\n",
    "# Passo 1: Importar base de dados\n",
    "# Passo 2: Visualizar a base de dados: 1 - entender as informações + 2 - encontrar problemas\n",
    "# Passo 3: Resolver problemas da base de dados\n",
    "# Passo 4: Analise inicial (quantos clientes cancelaram; qual percentual...)\n",
    "# Passo 5: Analise detalhada - causa dos cancelamentos"
   ]
  },
  {
   "cell_type": "code",
   "execution_count": null,
   "metadata": {},
   "outputs": [],
   "source": [
    "# Passo 1: Importar base de dados\n",
    "# pip install pandas openpyxl numpy nbformat plotly ipykernel\n",
    "# pandas -> base de dados\n",
    "# plotly -> gráficos dinâmicos\n",
    "\n",
    "import pandas as pd\n",
    "\n",
    "tabela = pd.read_csv(\"cancelamentos_sample.csv\")\n",
    "\n",
    "# Passo 2: Visualizar a base de dados: 1 - entender as informações + 2 - encontrar problemas\n",
    "# informações inuteis - que não ajudam, atrapalham\n",
    "tabela = tabela.drop(columns=\"CustomerID\")\n",
    "display(tabela)\n",
    "\n",
    "\n"
   ]
  },
  {
   "cell_type": "code",
   "execution_count": null,
   "metadata": {},
   "outputs": [
    {
     "name": "stdout",
     "output_type": "stream",
     "text": [
      "<class 'pandas.core.frame.DataFrame'>\n",
      "RangeIndex: 50000 entries, 0 to 49999\n",
      "Data columns (total 11 columns):\n",
      " #   Column                  Non-Null Count  Dtype  \n",
      "---  ------                  --------------  -----  \n",
      " 0   idade                   50000 non-null  float64\n",
      " 1   sexo                    49997 non-null  object \n",
      " 2   tempo_como_cliente      49998 non-null  float64\n",
      " 3   frequencia_uso          50000 non-null  float64\n",
      " 4   ligacoes_callcenter     50000 non-null  float64\n",
      " 5   dias_atraso             50000 non-null  float64\n",
      " 6   assinatura              50000 non-null  object \n",
      " 7   duracao_contrato        50000 non-null  object \n",
      " 8   total_gasto             50000 non-null  float64\n",
      " 9   meses_ultima_interacao  50000 non-null  float64\n",
      " 10  cancelou                50000 non-null  float64\n",
      "dtypes: float64(8), object(3)\n",
      "memory usage: 4.2+ MB\n"
     ]
    },
    {
     "data": {
      "text/plain": [
       "None"
      ]
     },
     "metadata": {},
     "output_type": "display_data"
    }
   ],
   "source": [
    "# Passo 3: Resolver problemas da base de dados\n",
    "# informações formato errado ou informações vazias\n",
    "\n",
    "tabela = tabela.dropna()\n",
    "display(tabela.info())"
   ]
  }
 ],
 "metadata": {
  "kernelspec": {
   "display_name": "Python 3",
   "language": "python",
   "name": "python3"
  },
  "language_info": {
   "codemirror_mode": {
    "name": "ipython",
    "version": 3
   },
   "file_extension": ".py",
   "mimetype": "text/x-python",
   "name": "python",
   "nbconvert_exporter": "python",
   "pygments_lexer": "ipython3",
   "version": "3.13.1"
  },
  "orig_nbformat": 4
 },
 "nbformat": 4,
 "nbformat_minor": 2
}
