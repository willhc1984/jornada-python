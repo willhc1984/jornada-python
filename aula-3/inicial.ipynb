{
 "cells": [
  {
   "cell_type": "markdown",
   "metadata": {},
   "source": [
    "# Projeto Python IA: Inteligência Artificial e Previsões\n",
    "\n",
    "### Case: Score de Crédito dos Clientes\n",
    "\n",
    "Você foi contratado por um banco para conseguir definir o score de crédito dos clientes. Você precisa analisar todos os clientes do banco e, com base nessa análise, criar um modelo que consiga ler as informações do cliente e dizer automaticamente o score de crédito dele: Ruim, Ok, Bom\n",
    "\n",
    "Arquivos da aula: https://drive.google.com/drive/folders/1FbDqVq4XLvU85VBlVIMJ73p9oOu6u2-J?usp=drive_link"
   ]
  },
  {
   "cell_type": "code",
   "execution_count": null,
   "metadata": {},
   "outputs": [],
   "source": [
    "# Passo a passo\n",
    "# Entender o desafio e a empresa\n",
    "# Passo 1: importar e visualizar base de dados\n",
    "# Passo 2: preparar a base para a inteligencia artificial\n",
    "# Passo 3: criar moelo de IA - prever a nota de crédito\n",
    "# Passo 4: escolher o melhor modelo\n",
    "# Passo 5: fazer novas previsões\n",
    "\n",
    "%pip install pandas scikit-learn"
   ]
  },
  {
   "cell_type": "code",
   "execution_count": null,
   "metadata": {},
   "outputs": [],
   "source": [
    "# Passo 1: importar e visualizar base de dados\n",
    "\n",
    "import pandas as pd\n",
    "\n",
    "tabela = pd.read_csv(\"clientes.csv\")\n",
    "display(tabela)"
   ]
  },
  {
   "cell_type": "code",
   "execution_count": null,
   "metadata": {},
   "outputs": [],
   "source": [
    "# Passo 2: preparar a base para a inteligencia artificial\n",
    "\n",
    "display(tabela.info())\n",
    "\n",
    "# LabelEncoder - atribui um código aos campos de texto\n",
    "from sklearn.preprocessing import LabelEncoder\n",
    "\n",
    "codificador1 = LabelEncoder()\n",
    "tabela[\"profissao\"] = codificador1.fit_transform(tabela[\"profissao\"])\n",
    "\n",
    "codificador2 = LabelEncoder()\n",
    "tabela[\"mix_credito\"] = codificador2.fit_transform(tabela[\"mix_credito\"])\n",
    "\n",
    "codificador3 = LabelEncoder()\n",
    "tabela[\"comportamento_pagamento\"] = codificador3.fit_transform(tabela[\"comportamento_pagamento\"])"
   ]
  },
  {
   "cell_type": "code",
   "execution_count": null,
   "metadata": {},
   "outputs": [],
   "source": [
    "# Separar as informações da base de dados para a IA - Separar em X e Y\n",
    "# Y -> quem eu quero prever - coluna score_credito\n",
    "# X -> todas outras colunas\n",
    "\n",
    "y = tabela[\"score_credito\"]\n",
    "x = tabela.drop(columns=[\"score_credito\", \"id_cliente\"])\n",
    "\n",
    "# Separar em dados de treino e de teste\n",
    "from sklearn import train_test_split\n",
    "\n",
    "x_treino, x_teste, y_treino, y_teste = train_test_split(x, y)\n",
    "\n",
    "\n"
   ]
  }
 ],
 "metadata": {
  "kernelspec": {
   "display_name": "Python 3",
   "language": "python",
   "name": "python3"
  },
  "language_info": {
   "codemirror_mode": {
    "name": "ipython",
    "version": 3
   },
   "file_extension": ".py",
   "mimetype": "text/x-python",
   "name": "python",
   "nbconvert_exporter": "python",
   "pygments_lexer": "ipython3",
   "version": "3.13.1"
  },
  "orig_nbformat": 4
 },
 "nbformat": 4,
 "nbformat_minor": 2
}
